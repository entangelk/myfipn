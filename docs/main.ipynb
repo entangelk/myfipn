{
 "cells": [
  {
   "cell_type": "code",
   "execution_count": null,
   "metadata": {
    "vscode": {
     "languageId": "plaintext"
    }
   },
   "outputs": [],
   "source": [
    "import pandas as pd\n",
    "import matplotlib.pyplot as plt\n",
    "import seaborn as sns\n",
    "import pickle\n",
    "import re\n",
    "\n",
    "from datetime import datetime\n",
    "import numpy as np\n",
    "\n",
    "import warnings\n",
    "warnings.filterwarnings('ignore')\n",
    "\n",
    "# 지수 표기법을 10진수로 변경\n",
    "pd.set_option('display.float_format', '{:.2f}'.format)\n",
    "\n",
    "import platform\n",
    "\n",
    "system = platform.system()\n",
    "\n",
    "if system == 'Windows':\n",
    "    plt.rcParams['font.family'] = 'Malgun Gothic'\n",
    "    \n",
    "else:\n",
    "    !apt-get -y install fonts-nanum\n",
    "    !fc-cache -fv\n",
    "    !rm ~/.cache/matplotlib -rf\n",
    "\n",
    "    plt.rcParams['font.family'] = 'NanumBarunGothic'\n",
    "\n",
    "# minus 기호 깨짐 방지\n",
    "plt.rcParams['axes.unicode_minus'] = False"
   ]
  }
 ],
 "metadata": {
  "language_info": {
   "name": "python"
  }
 },
 "nbformat": 4,
 "nbformat_minor": 2
}
